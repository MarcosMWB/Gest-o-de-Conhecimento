from sklearn.datasets import load_breast_cancer
cancer = load_breast_cancer()
print("cancer.keys(): \n{}".format(cancer.keys()))
print(cancer.data)
d = cancer.data
t = cancer.target
print(d.shape)

from sklearn.neighbors import KNeighborsClassifier
knn = KNeighborsClassifier(n_neighbors=1)
print(knn)
knn.fit(d, t)
knn.predict([[3, 5, 4, 2, 5 ,3, 5, 4, 2, 5,3, 5, 4, 2, 5, 3, 5, 4, 2, 5 ,3, 5, 4, 2, 5,3, 5, 4, 2, 5]])
d_new = [[3, 5, 4, 2, 5 ,3, 5, 4, 2, 5,3, 5, 4, 2, 5, 3, 5, 4, 2, 5 ,3, 5, 4, 2, 5,3, 5, 4, 2, 5], [1, 2, 3, 4, 5 ,6,1, 2, 3, 4, 5 ,6,1, 2, 3, 4, 5 ,6,1, 2, 3, 4, 5 ,6,1, 2, 3, 4, 5 ,6]]
knn.predict(d_new)

knn = KNeighborsClassifier(n_neighbors=5)
knn.fit(d, t)
knn.predict(d_new)


from sklearn.linear_model import LogisticRegression
logreg = LogisticRegression()
logreg.fit(d, t)
logreg.predict(d_new)

logreg = LogisticRegression()
logreg.fit(d, t)
logreg.predict(d)
t_pred = logreg.predict(d)
len(t_pred)


from sklearn import metrics
print(metrics.accuracy_score(t, t_pred))


from sklearn.neighbors import KNeighborsClassifier
knn = KNeighborsClassifier(n_neighbors=5)
knn.fit(d, t)
y_pred = knn.predict(d)
print(metrics.accuracy_score(t, t_pred))


knn = KNeighborsClassifier(n_neighbors=1)
knn.fit(d, t)
y_pred = knn.predict(d)
print(metrics.accuracy_score(t, t_pred))


from sklearn.model_selection import train_test_split
d_train, d_test, t_train, t_test = train_test_split(d, t, test_size=0.4, random_state=30)

print(d_train.shape)
print(d_test.shape)

print(t_train.shape)
print(t_test.shape)

logreg = LogisticRegression()
logreg.fit(d_train, t_train)

t_pred = logreg.predict(d_test)

print(metrics.accuracy_score(t_test, t_pred))

knn = KNeighborsClassifier(n_neighbors=5)
knn.fit(d_train, t_train)
t_pred = knn.predict(d_test)
print(metrics.accuracy_score(t_test, t_pred))

knn = KNeighborsClassifier(n_neighbors=1)
knn.fit(d_train, t_train)
t_pred = knn.predict(d_test)
print(metrics.accuracy_score(t_test, t_pred))

k_range = list(range(1, 26))
scores = []
for k in k_range:
    knn = KNeighborsClassifier(n_neighbors=k)
    knn.fit(d_train, t_train)
    t_pred = knn.predict(d_test)
    scores.append(metrics.accuracy_score(t_test, t_pred))


import matplotlib.pyplot as plt
get_ipython().magic(u'matplotlib inline')

plt.plot(k_range, scores)
plt.xlabel('Value of K for KNN')
plt.ylabel('Testing Accuracy')
